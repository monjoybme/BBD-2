{
 "cells": [
  {
   "cell_type": "code",
   "execution_count": 9,
   "id": "5471bfef",
   "metadata": {},
   "outputs": [],
   "source": [
    "import math\n",
    "import pandas as pd\n",
    "from scipy import stats\n",
    "from sklearn import metrics\n",
    "import matplotlib.pyplot as plt"
   ]
  },
  {
   "cell_type": "code",
   "execution_count": 11,
   "id": "195905fa",
   "metadata": {},
   "outputs": [],
   "source": [
    "data = pd.read_csv('dataBBD.csv')\n",
    "#data"
   ]
  },
  {
   "cell_type": "code",
   "execution_count": 12,
   "id": "ee9ea8ec",
   "metadata": {},
   "outputs": [],
   "source": [
    "n = 5"
   ]
  },
  {
   "cell_type": "markdown",
   "id": "26898f8f",
   "metadata": {},
   "source": [
    "### https://bookdown.org/mwheymans/bookmi/rubins-rules.html\n",
    "### https://genproresearch.com/multiple-imputation-using-sas-and-r-programming/"
   ]
  },
  {
   "cell_type": "markdown",
   "id": "daf15884",
   "metadata": {},
   "source": [
    "# Pooled parameter estimate"
   ]
  },
  {
   "cell_type": "code",
   "execution_count": 13,
   "id": "1830e191",
   "metadata": {},
   "outputs": [],
   "source": [
    "theta_bar_sensitivity = data.loc[:, 'Sensitivity_Proportion'].mean()\n",
    "#theta_bar_sensitivity"
   ]
  },
  {
   "cell_type": "code",
   "execution_count": 14,
   "id": "6c9b0416",
   "metadata": {},
   "outputs": [],
   "source": [
    "theta_bar_specificity = data.loc[:, 'Specifivity_Proportion'].mean()\n",
    "#theta_bar_specificity"
   ]
  },
  {
   "cell_type": "code",
   "execution_count": 15,
   "id": "cf8c44ce",
   "metadata": {},
   "outputs": [],
   "source": [
    "theta_bar_precision = data.loc[:, 'Precision_Proportion'].mean()\n",
    "#theta_bar_precision"
   ]
  },
  {
   "cell_type": "code",
   "execution_count": 16,
   "id": "3dc7d1f9",
   "metadata": {},
   "outputs": [],
   "source": [
    "theta_bar_accuracy = data.loc[:, 'Accuracy_Proportion'].mean()\n",
    "#theta_bar_accuracy"
   ]
  },
  {
   "cell_type": "code",
   "execution_count": 17,
   "id": "5071cdba",
   "metadata": {},
   "outputs": [],
   "source": [
    "theta_bar_AUROC = data.loc[:, 'AUROC_Proportion'].mean()\n",
    "#theta_bar_AUROC"
   ]
  },
  {
   "cell_type": "markdown",
   "id": "55325ced",
   "metadata": {},
   "source": [
    "# Between imputation variance"
   ]
  },
  {
   "cell_type": "code",
   "execution_count": 18,
   "id": "d1134ea1",
   "metadata": {},
   "outputs": [],
   "source": [
    "VB_sensitivity = (pow((data[\"Sensitivity_Proportion\"][0]- theta_bar_sensitivity), 2) + pow((data[\"Sensitivity_Proportion\"][1]- theta_bar_sensitivity), 2) + pow((data[\"Sensitivity_Proportion\"][2]- theta_bar_sensitivity), 2) + pow((data[\"Sensitivity_Proportion\"][3]- theta_bar_sensitivity), 2) + pow((data[\"Sensitivity_Proportion\"][4]- theta_bar_sensitivity), 2))/ (n-1)\n",
    "#VB_sensitivity"
   ]
  },
  {
   "cell_type": "code",
   "execution_count": 21,
   "id": "79bd288b",
   "metadata": {},
   "outputs": [],
   "source": [
    "VB_specificity = (pow((data[\"Specifivity_Proportion\"][0]- theta_bar_specificity), 2) + pow((data[\"Specifivity_Proportion\"][1]- theta_bar_specificity), 2) + pow((data[\"Specifivity_Proportion\"][2]- theta_bar_specificity), 2) + pow((data[\"Specifivity_Proportion\"][3]- theta_bar_specificity), 2) + pow((data[\"Specifivity_Proportion\"][4]- theta_bar_specificity), 2))/ (n-1)\n",
    "#VB_specificity\n",
    "#str(round(VB_specificity, 4))"
   ]
  },
  {
   "cell_type": "code",
   "execution_count": 22,
   "id": "95cfcb99",
   "metadata": {},
   "outputs": [],
   "source": [
    "VB_precision = (pow((data[\"Precision_Proportion\"][0]- theta_bar_precision), 2) + pow((data[\"Precision_Proportion\"][1]- theta_bar_precision), 2) + pow((data[\"Precision_Proportion\"][2]- theta_bar_precision), 2) + pow((data[\"Precision_Proportion\"][3]- theta_bar_precision), 2) + pow((data[\"Precision_Proportion\"][4]- theta_bar_precision), 2))/ (n-1)\n",
    "#VB_precision\n",
    "#str(round(VB_precision, 4))"
   ]
  },
  {
   "cell_type": "code",
   "execution_count": 23,
   "id": "549dbe1c",
   "metadata": {},
   "outputs": [],
   "source": [
    "VB_accuracy = (pow((data[\"Accuracy_Proportion\"][0]- theta_bar_accuracy), 2) + pow((data[\"Accuracy_Proportion\"][1]- theta_bar_accuracy), 2) + pow((data[\"Accuracy_Proportion\"][2]- theta_bar_accuracy), 2) + pow((data[\"Accuracy_Proportion\"][3]- theta_bar_accuracy), 2) + pow((data[\"Accuracy_Proportion\"][4]- theta_bar_accuracy), 2))/ (n-1)\n",
    "#VB_accuracy\n",
    "#str(round(VB_accuracy, 4))"
   ]
  },
  {
   "cell_type": "code",
   "execution_count": 24,
   "id": "4e30caf8",
   "metadata": {},
   "outputs": [],
   "source": [
    "VB_AUROC = (pow((data[\"AUROC_Proportion\"][0]- theta_bar_AUROC), 2) + pow((data[\"AUROC_Proportion\"][1]- theta_bar_AUROC), 2) + pow((data[\"AUROC_Proportion\"][2]- theta_bar_AUROC), 2) + pow((data[\"AUROC_Proportion\"][3]- theta_bar_AUROC), 2) + pow((data[\"AUROC_Proportion\"][4]- theta_bar_AUROC), 2))/ (n-1)\n",
    "#VB_AUROC\n",
    "#str(round(VB_AUROC, 4))"
   ]
  },
  {
   "cell_type": "markdown",
   "id": "492d5bd2",
   "metadata": {},
   "source": [
    "# Within imputation variance"
   ]
  },
  {
   "cell_type": "code",
   "execution_count": 25,
   "id": "1a1a8e0e",
   "metadata": {},
   "outputs": [],
   "source": [
    "VW_sensitivity = data.loc[:, 'Sensitivity_Variance'].mean()\n",
    "#VW_sensitivity"
   ]
  },
  {
   "cell_type": "code",
   "execution_count": 26,
   "id": "ca4195cb",
   "metadata": {},
   "outputs": [],
   "source": [
    "VW_specificity = data.loc[:, 'Specifivity_Variance'].mean()\n",
    "#VW_specificity"
   ]
  },
  {
   "cell_type": "code",
   "execution_count": 27,
   "id": "e176597b",
   "metadata": {},
   "outputs": [],
   "source": [
    "VW_precision = data.loc[:, 'Precision_Variance'].mean()\n",
    "#VW_precision"
   ]
  },
  {
   "cell_type": "code",
   "execution_count": 28,
   "id": "cfbaa750",
   "metadata": {},
   "outputs": [],
   "source": [
    "VW_Accuracy = data.loc[:, 'Accuracy_Variance'].mean()\n",
    "#VW_Accuracy"
   ]
  },
  {
   "cell_type": "code",
   "execution_count": 29,
   "id": "d9f56d62",
   "metadata": {},
   "outputs": [],
   "source": [
    "VW_AUROC = data.loc[:, 'AUROC_Variance'].mean()\n",
    "#VW_AUROC"
   ]
  },
  {
   "cell_type": "markdown",
   "id": "f94c870e",
   "metadata": {},
   "source": [
    "# VTotal"
   ]
  },
  {
   "cell_type": "code",
   "execution_count": 30,
   "id": "77c7c69c",
   "metadata": {},
   "outputs": [],
   "source": [
    "Vtotal_sensitivity = VW_sensitivity + VB_sensitivity + (VB_sensitivity/n)\n",
    "#Vtotal_sensitivity"
   ]
  },
  {
   "cell_type": "code",
   "execution_count": 31,
   "id": "56cb1411",
   "metadata": {},
   "outputs": [],
   "source": [
    "Vtotal_specificity = VW_specificity + VB_specificity + (VB_specificity/n)\n",
    "#Vtotal_specificity"
   ]
  },
  {
   "cell_type": "code",
   "execution_count": 32,
   "id": "f191adb0",
   "metadata": {},
   "outputs": [],
   "source": [
    "Vtotal_precision = VW_precision + VB_precision + (VB_precision/n)\n",
    "#Vtotal_precision"
   ]
  },
  {
   "cell_type": "code",
   "execution_count": 33,
   "id": "38b1003b",
   "metadata": {},
   "outputs": [],
   "source": [
    "Vtotal_Accuracy = VW_Accuracy + VB_accuracy + (VB_accuracy/n)\n",
    "#Vtotal_Accuracy"
   ]
  },
  {
   "cell_type": "code",
   "execution_count": 34,
   "id": "06972467",
   "metadata": {},
   "outputs": [],
   "source": [
    "Vtotal_AUROC = VW_AUROC + VB_AUROC + (VB_AUROC/n)\n",
    "#Vtotal_AUROC"
   ]
  },
  {
   "cell_type": "markdown",
   "id": "c7af35b7",
   "metadata": {},
   "source": [
    "# Standard Error Pooled"
   ]
  },
  {
   "cell_type": "code",
   "execution_count": 35,
   "id": "0be14c7f",
   "metadata": {},
   "outputs": [],
   "source": [
    "SE_pooled_sensitivity = math.sqrt(Vtotal_sensitivity)\n",
    "#SE_pooled_sensitivity"
   ]
  },
  {
   "cell_type": "code",
   "execution_count": 36,
   "id": "51705284",
   "metadata": {},
   "outputs": [],
   "source": [
    "SE_pooled_specificity = math.sqrt(Vtotal_specificity)\n",
    "#SE_pooled_specificity"
   ]
  },
  {
   "cell_type": "code",
   "execution_count": 37,
   "id": "832095be",
   "metadata": {},
   "outputs": [],
   "source": [
    "SE_pooled_precision = math.sqrt(Vtotal_precision)\n",
    "#SE_pooled_precision"
   ]
  },
  {
   "cell_type": "code",
   "execution_count": 38,
   "id": "f9ed8a1a",
   "metadata": {},
   "outputs": [],
   "source": [
    "SE_pooled_Accuracy = math.sqrt(Vtotal_Accuracy)\n",
    "#SE_pooled_Accuracy"
   ]
  },
  {
   "cell_type": "code",
   "execution_count": 39,
   "id": "b01a3512",
   "metadata": {},
   "outputs": [],
   "source": [
    "SE_pooled_AUROC = math.sqrt(Vtotal_AUROC)\n",
    "#SE_pooled_AUROC"
   ]
  },
  {
   "cell_type": "code",
   "execution_count": null,
   "id": "a7456ebc",
   "metadata": {},
   "outputs": [],
   "source": []
  }
 ],
 "metadata": {
  "kernelspec": {
   "display_name": "Python 3 (ipykernel)",
   "language": "python",
   "name": "python3"
  },
  "language_info": {
   "codemirror_mode": {
    "name": "ipython",
    "version": 3
   },
   "file_extension": ".py",
   "mimetype": "text/x-python",
   "name": "python",
   "nbconvert_exporter": "python",
   "pygments_lexer": "ipython3",
   "version": "3.9.6"
  }
 },
 "nbformat": 4,
 "nbformat_minor": 5
}
